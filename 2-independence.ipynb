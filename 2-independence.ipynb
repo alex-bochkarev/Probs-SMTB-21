{
 "cells": [
  {
   "cell_type": "markdown",
   "metadata": {
    "slideshow": {
     "slide_type": "slide"
    }
   },
   "source": [
    "*SMTB-2021 :: \"A Practical Intro to Probability Theory.\"*\n",
    "*a@bochkarev.io*\n",
    "\n",
    "**Last time we discussed a model for random events:**\n",
    "- Classical definition of probabilities; frequencies.\n",
    "- Experiments with dice.\n",
    "- Experiments with ~crocodiles~ black and while balls.\n",
    "- A math model for random events: Probability space. Outcomes, events. Notes on Set theory.\n",
    "- A couple of numerical illustrations for random events.\n",
    "\n",
    "**This time, we start...**\n",
    "\n",
    "# Topic 2: (in)dependence, tests, and Co.\n",
    "- Crocodiles and rabbits revised (aka black and white balls).\n",
    "- Dependent and Independent events.\n",
    "- Conditional probability.\n",
    "- COVID test as a random variable. Characterizing tests."
   ]
  },
  {
   "cell_type": "code",
   "execution_count": 12,
   "metadata": {
    "slideshow": {
     "slide_type": "fragment"
    }
   },
   "outputs": [],
   "source": [
    "import numpy as np"
   ]
  },
  {
   "cell_type": "markdown",
   "metadata": {
    "slideshow": {
     "slide_type": "slide"
    }
   },
   "source": [
    "  *First, let's warm up with some set theory...*"
   ]
  },
  {
   "cell_type": "markdown",
   "metadata": {
    "slideshow": {
     "slide_type": "slide"
    }
   },
   "source": [
    "If we introduce a notation for a \"complement\" to any set $A$ (within $\\Omega$), like this:\n",
    "- $\\bar{A}:=\\Omega\\setminus A$, i.e. including all elements $x\\in \\Omega$, such that $x\\notin A$...\n",
    "\n",
    "... then how can we calculate $\\mathbb{P}(\\bar{A})$, knowing $\\mathbb{P}(A)$? In other words, what's the probability to have 2,3,4,5, or 6 on a dice?"
   ]
  },
  {
   "cell_type": "markdown",
   "metadata": {
    "slideshow": {
     "slide_type": "fragment"
    }
   },
   "source": [
    "$1-\\mathbb{P}(A)$.\n",
    "\n",
    "- Well, if we take $A$ and $B:=\\bar{A}$, then by definition $A\\cap B=\\varnothing$,\n",
    "- hence, $\\mathbb{P}(A)+\\mathbb{P}(B)=\\mathbb{P}(A\\cup B)= \\mathbb{P}(\\Omega)=1$.\n",
    "\n",
    "(Just a useful trick.)"
   ]
  },
  {
   "cell_type": "markdown",
   "metadata": {
    "slideshow": {
     "slide_type": "slide"
    }
   },
   "source": [
    "## Questions from the previous lecture.\n",
    "### Probability for the \"union\" of events.\n",
    "- we remember that *if* $A\\cap B=\\varnothing$, then $\\mathbb{P}(A\\cup B) = \\mathbb{P}(A)+\\mathbb{P}(B).$\n",
    "- given the properties of probability, $\\mathbb{P}$, how would you find $\\mathbb{P}(A\\cup B)$ for the case when $A\\cap B \\neq \\varnothing$?\n",
    "  \n",
    "*Ideas / suggestions?*"
   ]
  },
  {
   "cell_type": "markdown",
   "metadata": {
    "slideshow": {
     "slide_type": "slide"
    }
   },
   "source": [
    "We know that: $\\mathbb{P}(A\\cup B) = \\mathbb{P}(A) + \\mathbb{P}(B)$, if $A\\cap B=\\varnothing$ (i.e., no shared elements)."
   ]
  },
  {
   "cell_type": "markdown",
   "metadata": {
    "slideshow": {
     "slide_type": "fragment"
    }
   },
   "source": [
    "Note that:\n",
    "- $\\mathbb{P}(A)=\\mathbb{P}(A\\setminus B) + \\mathbb{P}(A\\cap B)$,\n",
    "- $\\mathbb{P}(B)=\\mathbb{P}(B\\setminus A) + \\mathbb{P}(A\\cap B)$.\n",
    "\n",
    "(Right?)"
   ]
  },
  {
   "cell_type": "markdown",
   "metadata": {
    "slideshow": {
     "slide_type": "fragment"
    }
   },
   "source": [
    "Let's just sum up these two equations:\n",
    "- $\\mathbb{P}(A)+\\mathbb{P}(B) = \\Big[\\mathbb{P}(A\\setminus B) + \\mathbb{P}(A\\cap B)+\\mathbb{P}(B\\setminus A) \\Big]+ \\mathbb{P}(A\\cap B)$."
   ]
  },
  {
   "cell_type": "markdown",
   "metadata": {
    "slideshow": {
     "slide_type": "fragment"
    }
   },
   "source": [
    "Obviously, $\\mathbb{P}(A\\setminus B) + \\mathbb{P}(A\\cap B)+\\mathbb{P}(B\\setminus A)=\\mathbb{P}(A\\cup B)$"
   ]
  },
  {
   "cell_type": "markdown",
   "metadata": {
    "slideshow": {
     "slide_type": "fragment"
    }
   },
   "source": [
    "... therefore,\n",
    "$$\\Rightarrow \\mathbb{P}(A\\cup B) = \\mathbb{P}(A)+\\mathbb{P}(B) - \\mathbb{P}(A\\cap B) \\nonumber$$"
   ]
  },
  {
   "cell_type": "markdown",
   "metadata": {
    "slideshow": {
     "slide_type": "slide"
    }
   },
   "source": [
    "$$\\mathbb{P}(A\\cup B) = \\mathbb{P}(A)+\\mathbb{P}(B) - \\mathbb{P}(A\\cap B) \\nonumber$$\n",
    "Well, actually, we could have just imagined the picture:\n",
    "![A and B](./images/AnB.png)"
   ]
  },
  {
   "cell_type": "markdown",
   "metadata": {
    "slideshow": {
     "slide_type": "slide"
    }
   },
   "source": [
    "### \"Rabbits and Crocodiles\", revisited.\n",
    "- Assume the hat still contains 10 🐇 and 5 🐊. Assume I am picking the animals out one by one, but now they run away every time. How would you assess the probability to pick out five rabbits (in a row)? \n",
    "  \n",
    "  *Ideas?*"
   ]
  },
  {
   "cell_type": "markdown",
   "metadata": {
    "slideshow": {
     "slide_type": "fragment"
    }
   },
   "source": [
    "- \"Good\" outcomes: $10\\cdot 9\\cdot 8\\cdot 7 \\cdot 6=30,240$\n",
    "- All outcomes: $15\\cdot 14 \\cdot 13\\cdot 12 \\cdot 11=360,360$\n",
    "- therefore, the probability is $30,240/360,360 \\approx 8\\%$."
   ]
  },
  {
   "cell_type": "markdown",
   "metadata": {
    "slideshow": {
     "slide_type": "fragment"
    }
   },
   "source": [
    "**sometimes we discuss general \"combinatorial\" concepts** instead:\n",
    "(denoting $n! := n (n-1) \\ldots 1$)\n",
    "\n",
    "- number of options to choose $k$ elements out of $n$, **regardless of their order**, $A_n^K=$ *???*\n",
    "- number of permutations of $k$ elements, $P_k=$ *???*\n",
    "- now, choosing $k$ elements out of $n$, **taking care about their order** $C_n^k=$ (\"combinations\") *???*\n",
    "- anyways, number of subsets of a set with $N$ elements = *???*."
   ]
  },
  {
   "cell_type": "markdown",
   "metadata": {
    "slideshow": {
     "slide_type": "slide"
    }
   },
   "source": [
    "**sometimes we discuss general \"combinatorial\" concepts** instead:\n",
    "(denoting $n! := n (n-1) \\ldots 1$)\n",
    "\n",
    "- number of options to choose $k$ elements out of $n$, **regardless of their order**, $A_n^K=n! / (n-k)!$\n",
    "- number of permutations of $k$ elements, $P_k=k!$ *???*\n",
    "- now, choosing $k$ elements out of $n$, **taking care about their order** $C_n^k=\\frac{n!}{k!(n-k)!}$ (\"combinations\")\n",
    "- anyways, number of subsets of a set with $N$ elements = $2^N$ (*why?!*)."
   ]
  },
  {
   "cell_type": "markdown",
   "metadata": {
    "slideshow": {
     "slide_type": "fragment"
    }
   },
   "source": [
    "**Sidenote:** $2^N$, as well as $N!$ -- is a  **fast** growth!!"
   ]
  },
  {
   "cell_type": "markdown",
   "metadata": {
    "slideshow": {
     "slide_type": "slide"
    }
   },
   "source": [
    "## Dependent and Independent Events.\n",
    "We introduced probabilities as $(\\Omega, \\mathcal{F}, \\mathbb{P})$ -- \"Probability Space\". Respectively,\n",
    "- $\\Omega$ -- a set of *outcomes* (a-la \"atomic results\").\n",
    "- $\\mathcal{F}$ -- a collection of *events* (obviously, these are subsets of $\\Omega$).\n",
    "- $\\mathbb{P}$ -- \"probability\" function, mapping $\\mathcal{F}$ to $[0,1]$.\n",
    "\n",
    "We demand more or less natural things from these three. We do consider events as *sets* now. Given what we know about all this, how would you define *dependent* and *independent* events now?"
   ]
  },
  {
   "cell_type": "markdown",
   "metadata": {
    "slideshow": {
     "slide_type": "fragment"
    }
   },
   "source": [
    "E.g., intuitively speaking, are these events independent:\n",
    "- getting HEAD in two consecutive tosses of a coin?\n",
    "- getting ⚀ and ⚅ on different dice?\n",
    "- ... on the same dice (in the same throw)?\n",
    "- \"getting ⚅\" and \"getting even\"?\n",
    "- \"getting ⚅\" and \"getting odd\"?"
   ]
  },
  {
   "cell_type": "markdown",
   "metadata": {
    "slideshow": {
     "slide_type": "slide"
    }
   },
   "source": [
    "We could, for example, define independent events like this:\n",
    "$A$ and $B$ are **independent** (by definition!) iff their probabilities satisfy:\n",
    "$$\\mathbb{P}(A\\cap B)=\\mathbb{P}(A)\\mathbb{P}(B) \\nonumber$$"
   ]
  },
  {
   "cell_type": "markdown",
   "metadata": {
    "slideshow": {
     "slide_type": "fragment"
    }
   },
   "source": [
    "Again, would this work for our examples?\n",
    "- getting HEAD in two consecutive tosses of a coin?\n",
    "- getting ⚀ and ⚅ on different dice?\n",
    "- ... on the same dice (in the same throw)?\n",
    "- \"getting ⚅\" and \"getting even\"?\n",
    "- \"getting ⚅\" and \"getting odd\"?"
   ]
  },
  {
   "cell_type": "markdown",
   "metadata": {
    "slideshow": {
     "slide_type": "slide"
    }
   },
   "source": [
    "### Example: double-checking.\n",
    "\n",
    "Assume a machine-learning based system defines iron nugget's size from photographs. It does so using two independent cameras of different models.\n",
    "\n",
    "**The goal:** is to spot cases when the size is off (the specifications).\n",
    "- The first camera detects such cases with probability $0.6$; the second one, slightly newer model, with $0.8$. \n",
    "\n",
    "**Question:** what's the probability that the system will spot the problem, assuming it is present? (given two photos, one from each camera)"
   ]
  },
  {
   "cell_type": "markdown",
   "metadata": {
    "slideshow": {
     "slide_type": "fragment"
    }
   },
   "source": [
    "- first, it seems $0.6+0.8$ is just wrong? :)\n",
    "- why in the world?.. this is just $\\mathbb{P}(A\\cup B)$..."
   ]
  },
  {
   "cell_type": "markdown",
   "metadata": {
    "slideshow": {
     "slide_type": "fragment"
    }
   },
   "source": [
    "- okay, let's just find the probability that neither of the cams will find it.\n",
    "- obviously, this is $(1-0.6)(1-0.8)=0.4\\cdot 0.2=0.08$.\n",
    "- then, the probability we are interested in is just $1-0.08 = 0.92$!"
   ]
  },
  {
   "cell_type": "markdown",
   "metadata": {
    "slideshow": {
     "slide_type": "fragment"
    }
   },
   "source": [
    "*Wow-wow, waitasecond...*"
   ]
  },
  {
   "cell_type": "code",
   "execution_count": 13,
   "metadata": {
    "slideshow": {
     "slide_type": "slide"
    }
   },
   "outputs": [
    {
     "name": "stdout",
     "output_type": "stream",
     "text": [
      "Share of successful detections (simulated): 92.1%\n"
     ]
    }
   ],
   "source": [
    "success = 0\n",
    "N = 50000\n",
    "\n",
    "for i in range(N):\n",
    "    # note: we are ASSUMING we have a defect!\n",
    "    check_camera_1 = (np.random.uniform() <= 0.6)  # that's an event with prob 0.6\n",
    "    check_camera_2 = (np.random.uniform() <= 0.8)  # this's the one with 0.8\n",
    "    \n",
    "    if check_camera_1 or check_camera_2:\n",
    "        success += 1\n",
    "        \n",
    "print(f\"Share of successful detections (simulated): {success*100 / N:.1f}%\")"
   ]
  },
  {
   "cell_type": "markdown",
   "metadata": {
    "slideshow": {
     "slide_type": "slide"
    }
   },
   "source": [
    "## Conditional probability\n",
    "Sometimes, we want to think in terms of \"conditionals\". What's the probability of `something`, **assuming** `something else` has already happened?"
   ]
  },
  {
   "cell_type": "markdown",
   "metadata": {
    "slideshow": {
     "slide_type": "fragment"
    }
   },
   "source": [
    "- work email has been sent to a wrong client -- a scandal. What's the probability that this is our new intern Joe?\n",
    "- what's the probability that my algorithm makes profit on a stock market assuming the prices going down?\n",
    "- what's the probability that our method will detect cancer, assuming it is indeed there?"
   ]
  },
  {
   "cell_type": "markdown",
   "metadata": {
    "slideshow": {
     "slide_type": "fragment"
    }
   },
   "source": [
    "How would you define such a thing numerically -- say, $\\mathbb{P}(A|B)$? (А \"given\" B.) For starters, in terms of the number of outcomes:"
   ]
  },
  {
   "cell_type": "markdown",
   "metadata": {
    "slideshow": {
     "slide_type": "fragment"
    }
   },
   "source": [
    "- well, like a share of outcomes, right?\n",
    "- that is, #`both A and B happened` / #`B happened`."
   ]
  },
  {
   "cell_type": "markdown",
   "metadata": {
    "slideshow": {
     "slide_type": "fragment"
    }
   },
   "source": [
    "pursuing the same logic further:\n",
    "$$\\mathbb{P}(A|B) := \\frac{\\mathbb{P}(A\\cap B)}{\\mathbb{P}(B)}\\nonumber$$"
   ]
  },
  {
   "cell_type": "markdown",
   "metadata": {
    "slideshow": {
     "slide_type": "slide"
    }
   },
   "source": [
    "By the way, if we have\n",
    "$$\\mathbb{P}(A|B) := \\frac{\\mathbb{P}(A\\cap B)}{\\mathbb{P}(B)}\\nonumber$$\n",
    "\n",
    "we could instead call events *independent* by definition iff $\\mathbb{P}(A|B)=\\mathbb{P}(A).$ (Which is intuitively pretty clear, right?)"
   ]
  },
  {
   "cell_type": "markdown",
   "metadata": {
    "slideshow": {
     "slide_type": "slide"
    }
   },
   "source": [
    "### A quick lifehack: \"Law of Total Probability\".\n",
    "Note that $$\\mathbb{P}(A\\cap B) = \\mathbb{P}(A|B) \\mathbb{P}(B)\\nonumber$$\n",
    "\n",
    "So, if I \"split\" our $\\Omega := B_1 \\cup \\ldots \\cup B_K$ so that $B_i\\cap B_j=\\varnothing$, then\n",
    "\n",
    "$$\\mathbb{P}(A) = \\mathbb{P}(A\\cap\\Omega) =\\mathbb{P}(A\\cap B_1)+ \\ldots + \\mathbb{P}(A\\cap B_K)=\\mathbb{P}(A|B_1)\\mathbb{P}(B_1) + \\ldots + \\mathbb{P}(A|B_K)\\mathbb{P}(B_K)\\nonumber$$"
   ]
  },
  {
   "cell_type": "markdown",
   "metadata": {
    "slideshow": {
     "slide_type": "fragment"
    }
   },
   "source": [
    "**For example:** sometimes it is easier to work with conditional probabilities than with absolutes. We have three cars in the rental: the first one will break down in the first day with prob 10%, the second one -- 30%, the third -- 100%. You are getting a car at random. What's the probability to get stuck on the road today?..\n",
    "\n",
    "*(Check out the course folder for the [solution](./2021-07-30-Total_prob.pdf))*\n",
    "\n",
    "**ProTip:** if you own the car rental -- pick up probabilities so that the clients would get stuck at most 50% of the time (so you are \"overall okay\")."
   ]
  },
  {
   "cell_type": "markdown",
   "metadata": {
    "slideshow": {
     "slide_type": "slide"
    }
   },
   "source": [
    "## Speaking about tests.\n",
    "This concept pops up a lot when we talk about *tests*. Let's discuss a COVID test, of course [*]\n",
    "\n",
    "[*] does not really correspond to the real numbers -- everything is made up."
   ]
  },
  {
   "cell_type": "code",
   "execution_count": 2,
   "metadata": {
    "slideshow": {
     "slide_type": "slide"
    }
   },
   "outputs": [],
   "source": [
    "## Let's wrap it up beautifully, for discussion.\n",
    "class Life:\n",
    "    \"\"\"Determines the real condition.\"\"\"\n",
    "    def __init__(self):\n",
    "        self.COVID_prob = np.random.uniform(0, 0.6)\n",
    "        \n",
    "    def happen(self):\n",
    "        outcome = np.random.uniform()\n",
    "        if outcome <= self.COVID_prob:\n",
    "            return \"💀\"\n",
    "        else:\n",
    "            return \"😊\"\n",
    "        \n",
    "class COVIDtest:\n",
    "    \"\"\"Describes a test.\"\"\"\n",
    "    def __init__(self):\n",
    "        self.recall = np.random.uniform(0.6,1.0)\n",
    "        self.specificity = np.random.uniform(0,0.3)\n",
    "        \n",
    "    def test(self, life_state):\n",
    "        \"\"\"Gives the test result, depending on the true state.\"\"\"\n",
    "        outcome = np.random.uniform()\n",
    "        if life_state == \"💀\":\n",
    "            if outcome <= self.recall:\n",
    "                return \"😷 (sick)\"\n",
    "            else:\n",
    "                return \"👍 (healthy)\"\n",
    "        else:\n",
    "            if outcome <= self.specificity:\n",
    "                return \"👍 (healthy)\"\n",
    "            else:\n",
    "                return \"😷 (sick)\"\n",
    "            \n",
    "def make_table(TP, FP, TN, FN):\n",
    "    N = TP+FP+TN+FN\n",
    "    print(f\"{'Truth / Тest ->':<15} | {'😷 (+ sick)':^15} | {'👍 (- healthy)':^15} | {'∑':^15} | %\")\n",
    "    print(f\"{'=':=<80}\")\n",
    "    print(f\"{'💀 ':<15}   {TP:^15,}   {FN:^15,}   {TP+FN:^15,}   {(TP+FN) / N:.2f}\")\n",
    "    print(f\"{'😊 ':<15}   {FP:^15,}   {TN:^15,}   {FP+TN:^15,}   {(FP+TN) / N:.2f}\")\n",
    "    print(f\"{'-':-<80}\")\n",
    "    print(f\"{'∑  ':<15}   {TP+FP:^15,}   {FN+TN:^15,}   {N:^15,}    1.0\")\n",
    "    print(f\"{'%  ':<15}   {(TP+FP)/N:^15.2f}   {(FN+TN)/N:^15.2f}   {'100%':^15}\")"
   ]
  },
  {
   "cell_type": "code",
   "execution_count": 5,
   "metadata": {
    "slideshow": {
     "slide_type": "subslide"
    }
   },
   "outputs": [],
   "source": [
    "import numpy as np\n",
    "life = Life()\n",
    "s=''\n",
    "doc = COVIDtest()"
   ]
  },
  {
   "cell_type": "code",
   "execution_count": 19,
   "metadata": {
    "slideshow": {
     "slide_type": "fragment"
    }
   },
   "outputs": [
    {
     "data": {
      "text/plain": [
       "'💀😊😊😊💀😊😊😊😊😊😊😊😊💀'"
      ]
     },
     "execution_count": 19,
     "metadata": {},
     "output_type": "execute_result"
    }
   ],
   "source": [
    "s += life.happen()\n",
    "s"
   ]
  },
  {
   "cell_type": "code",
   "execution_count": 29,
   "metadata": {
    "slideshow": {
     "slide_type": "fragment"
    }
   },
   "outputs": [
    {
     "name": "stdout",
     "output_type": "stream",
     "text": [
      "😊 --> 😷 (sick)\n"
     ]
    }
   ],
   "source": [
    "state = life.happen()\n",
    "print(f\"{state} --> {doc.test(state)}\")"
   ]
  },
  {
   "cell_type": "markdown",
   "metadata": {
    "slideshow": {
     "slide_type": "subslide"
    }
   },
   "source": [
    "How would we characterize the test? (experimentally or theoretically)"
   ]
  },
  {
   "cell_type": "markdown",
   "metadata": {
    "slideshow": {
     "slide_type": "fragment"
    }
   },
   "source": [
    "- **option 1**. Virus detection, right?"
   ]
  },
  {
   "cell_type": "code",
   "execution_count": 31,
   "metadata": {
    "slideshow": {
     "slide_type": "fragment"
    }
   },
   "outputs": [
    {
     "name": "stdout",
     "output_type": "stream",
     "text": [
      "Got 76.2% cases (population: 2408 sick per 10000 patients)\n"
     ]
    }
   ],
   "source": [
    "success = 0\n",
    "sick_cases = 0\n",
    "N = 10000\n",
    "\n",
    "for n in range(N):\n",
    "    state = life.happen()\n",
    "    if state == \"💀\":\n",
    "        sick_cases += 1\n",
    "    res = doc.test(state)\n",
    "    if state == \"💀\" and res == \"😷 (sick)\":\n",
    "        success += 1\n",
    "        \n",
    "print(f\"Got {success*100 / sick_cases:.1f}% cases (population: {sick_cases} sick per {N} patients)\")"
   ]
  },
  {
   "cell_type": "markdown",
   "metadata": {
    "slideshow": {
     "slide_type": "fragment"
    }
   },
   "source": [
    "**Do we have a problem here?**"
   ]
  },
  {
   "cell_type": "code",
   "execution_count": 32,
   "metadata": {
    "slideshow": {
     "slide_type": "subslide"
    }
   },
   "outputs": [],
   "source": [
    "def run_experiments(life, doc, N=1000):\n",
    "    results = {(\"💀\",\"😷 (sick)\"):0, (\"💀\",\"👍 (healthy)\"):0, (\"😊\",\"😷 (sick)\"):0, (\"😊\",\"👍 (healthy)\"):0}\n",
    "\n",
    "    for n in range(N):\n",
    "        state = life.happen()\n",
    "        result = doc.test(state)\n",
    "        results[(state,result)] += 1\n",
    "\n",
    "    TP = results[(\"💀\",\"😷 (sick)\")]\n",
    "    FP = results[(\"😊\",\"😷 (sick)\")]\n",
    "    TN = results[(\"😊\",\"👍 (healthy)\")]\n",
    "    FN = results[(\"💀\",\"👍 (healthy)\")]\n",
    "\n",
    "    return TP, FP, TN, FN"
   ]
  },
  {
   "cell_type": "code",
   "execution_count": 33,
   "metadata": {
    "scrolled": false,
    "slideshow": {
     "slide_type": "subslide"
    }
   },
   "outputs": [
    {
     "name": "stdout",
     "output_type": "stream",
     "text": [
      "Truth / Тest -> |   😷 (+ sick)    |  👍 (- healthy)  |        ∑        | %\n",
      "================================================================================\n",
      "💀                      1,782              548              2,330        0.23\n",
      "😊                      5,421             2,249             7,670        0.77\n",
      "--------------------------------------------------------------------------------\n",
      "∑                      7,203             2,797            10,000         1.0\n",
      "%                      0.72              0.28              100%      \n"
     ]
    }
   ],
   "source": [
    "TP, FP, TN, FN = run_experiments(life, doc, 10000)\n",
    "make_table(TP, FP, TN, FN)"
   ]
  },
  {
   "cell_type": "markdown",
   "metadata": {
    "slideshow": {
     "slide_type": "fragment"
    }
   },
   "source": [
    "**Other characteristics of tests:**\n",
    "- percent of \"type I errors\" -- \"False positives\"\n",
    "- ... type II errors -- \"False negatives\"\n",
    "- sensitivity *aka* recall *aka* true positive rate = `True Positives` / `Positives`.\n",
    "- specificity *aka* selectivity *aka* true negative rate = `True Negatives` / `Negatives`.\n",
    "\n",
    "Basically always it's a balance between \"Specificity\" vs. \"Sensitivity\" (see [Wiki](https://en.wikipedia.org/wiki/Precision_and_recall) on this)"
   ]
  },
  {
   "cell_type": "code",
   "execution_count": 34,
   "metadata": {
    "slideshow": {
     "slide_type": "fragment"
    }
   },
   "outputs": [
    {
     "name": "stdout",
     "output_type": "stream",
     "text": [
      "P(COVID) = 0.24\n",
      "Recall = 0.75, Specificity = 0.30\n",
      "Recall (sample) = 0.76, Specificity (sample) = 0.29\n"
     ]
    }
   ],
   "source": [
    "# So the true parameters are:\n",
    "print(f\"P(COVID) = {life.COVID_prob:.2f}\")\n",
    "print(f\"Recall = {doc.recall:.2f}, Specificity = {doc.specificity:.2f}\")\n",
    "\n",
    "# Sample parameters:\n",
    "print(f\"Recall (sample) = {TP / (TP+FN):.2f}, Specificity (sample) = {TN/(TN+FP):.2f}\")"
   ]
  },
  {
   "cell_type": "markdown",
   "metadata": {
    "slideshow": {
     "slide_type": "slide"
    }
   },
   "source": [
    "### Some more examples of \"tests\"\n",
    "\n",
    "- air defence systems and false alarms;\n",
    "- spam filtering;\n",
    "- image recognition problems (e.g., handwriting)\n",
    "- QC: finding defects in production;\n",
    "- TSA / luggage and passengers\n",
    "- biometric identification;\n",
    "- clinics: testing vs screening (we can have many false positives, but need it cheap!)"
   ]
  },
  {
   "cell_type": "markdown",
   "metadata": {
    "slideshow": {
     "slide_type": "slide"
    }
   },
   "source": [
    "## Bayes formula\n",
    "\n",
    "Sometimes we want our probability \"inside out\".\n",
    "**What for?** What's the probability if I have COVID if I have a running nose? Assuming we know:\n",
    "- share of people with running nose (on the average),\n",
    "- sharae of people with COVID,\n",
    "- and how often there's running nose with COVID..."
   ]
  },
  {
   "cell_type": "markdown",
   "metadata": {
    "slideshow": {
     "slide_type": "fragment"
    }
   },
   "source": [
    "so, A = {I have a virus}, B = {running nose}, and we know probabilities for A, B, and $\\mathbb{P}(B|A)$. *What do we do further?*\n",
    "\n",
    "We will come back to the example today, but let us first get the key formula for this:"
   ]
  },
  {
   "cell_type": "markdown",
   "metadata": {
    "slideshow": {
     "slide_type": "slide"
    }
   },
   "source": [
    "Note that $\\mathbb{P}(A\\cap B) = \\mathbb{P}(A|B)\\mathbb{P}(B) = \\mathbb{P}(B|A)\\mathbb{P}(A)$. Hence:\n",
    "\n",
    "$$\\mathbb{P}(A|B) = \\frac{\\mathbb{P}(B|A)\\mathbb{P}(A)}{\\mathbb{P}(B)}\\nonumber$$"
   ]
  },
  {
   "cell_type": "markdown",
   "metadata": {
    "slideshow": {
     "slide_type": "slide"
    }
   },
   "source": [
    "### Numerical example: COVID test\n",
    "\n",
    "Assume I have made an antibody test (say, in Moscow), and it is positive. What's the probability that I do have antibodies?\n",
    "\n",
    "We know that:\n",
    "- in Moscow, ~5% of population had antiboides[*].\n",
    "\n",
    "The test documentation contains the following data:\n",
    "- Sensitivity (\"True Positive Rate\") = 99%\n",
    "- Specificity (\"True Negative Rate\") = 98%\n",
    "\n",
    "So, what do we do?\n",
    "\n",
    "[*] at the moment of writing this first time."
   ]
  },
  {
   "cell_type": "markdown",
   "metadata": {
    "slideshow": {
     "slide_type": "slide"
    }
   },
   "source": [
    "- denote \"+\" to mean \"the test is positive\", \"✅\" -- antibodies are indeed there; \"❌\" -- no antibodies. Then:\n",
    "\n",
    "$$\\mathbb{P}(✅|+) = \\frac{\\mathbb{P}(+|✅)\\mathbb{P}(✅)}{\\mathbb{P}(+)}\\nonumber$$"
   ]
  },
  {
   "cell_type": "markdown",
   "metadata": {
    "slideshow": {
     "slide_type": "fragment"
    }
   },
   "source": [
    "- we have a problem in the denomitator. Let's expand it (using this \"Law of Total Probability\"):\n",
    "\n",
    "$$\\mathbb{P}(+) = \\mathbb{P}(+|✅)\\mathbb{P}(✅) + \\mathbb{P}(+|❌)\\mathbb{P}(❌)\\nonumber$$\n",
    "\n",
    "- so, we can just plug in the numbers:"
   ]
  },
  {
   "cell_type": "markdown",
   "metadata": {
    "slideshow": {
     "slide_type": "fragment"
    }
   },
   "source": [
    "- obviously, $\\mathbb{P}(✅)=0.05$. Then, $\\mathbb{P}(❌) = 1-0.05 = 0.95$.\n",
    "- $\\mathbb{P}(+|✅)$ -- this is \"sensitivity\", 0.99\n",
    "- now we need $\\mathbb{P}(+|❌)$ = 1 - Specificity = 0.02."
   ]
  },
  {
   "cell_type": "markdown",
   "metadata": {
    "slideshow": {
     "slide_type": "subslide"
    }
   },
   "source": [
    "therefore,\n",
    "\n",
    "$$\\mathbb{P}(✅|+) = \\frac{\\mathbb{P}(+|✅)\\mathbb{P}(✅)}{\\mathbb{P}(+|✅)\\mathbb{P}(✅) + \\mathbb{P}(+|❌)\\mathbb{P}(❌)} = \\frac{0.99\\cdot0.05}{0.99\\cdot 0.05 + 0.02\\cdot 0.95}\\nonumber$$"
   ]
  },
  {
   "cell_type": "code",
   "execution_count": 35,
   "metadata": {},
   "outputs": [
    {
     "name": "stdout",
     "output_type": "stream",
     "text": [
      "For ℙ(✅)=0.05: ℙ(✅|+)=0.72\n",
      "For ℙ(✅)=0.50: ℙ(✅|+)=0.98\n"
     ]
    }
   ],
   "source": [
    "Sensitivity = 0.99\n",
    "Specificity = 0.98\n",
    "Pplus = 0.05\n",
    "\n",
    "print(f\"For ℙ(✅)={Pplus:.2f}: ℙ(✅|+)={(Sensitivity * Pplus)/(Sensitivity*Pplus + (1-Specificity)*(1-Pplus)):.2f}\")\n",
    "\n",
    "# Now, if we have more people with antibodies:\n",
    "Pplus = 0.5\n",
    "print(f\"For ℙ(✅)={Pplus:.2f}: ℙ(✅|+)={(Sensitivity * Pplus)/(Sensitivity*Pplus + (1-Specificity)*(1-Pplus)):.2f}\")"
   ]
  },
  {
   "cell_type": "markdown",
   "metadata": {
    "slideshow": {
     "slide_type": "slide"
    }
   },
   "source": [
    "*SMTB-2021 :: \"A Practical Intro to Probability Theory.\"*\n",
    "*a@bochkarev.io*\n",
    "\n",
    "# Topic 2: (in)dependence, tests, and Co.\n",
    "- Crocodiles and rabbits revised (aka black and white balls).\n",
    "- Dependent and Independent events.\n",
    "- Conditional probability.\n",
    "- COVID test as a random variable. Characterizing tests.\n",
    "\n",
    "## Next time: random variables\n",
    "- Definition of the random variable.\n",
    "- Quick examples: score on dice; an RV with countably many values (Poisson)\n",
    "- Bernoulli scheme (a \"biased\" coin) and Binomial distribution (counting the number of \"Heads\").\n",
    "- PMF, CDF.\n",
    "   \n",
    "**Thinking with 🍵:** review the lecture, maybe (the notebook)."
   ]
  }
 ],
 "metadata": {
  "celltoolbar": "Slideshow",
  "kernelspec": {
   "display_name": "Python 3",
   "language": "python",
   "name": "python3"
  },
  "language_info": {
   "codemirror_mode": {
    "name": "ipython",
    "version": 3
   },
   "file_extension": ".py",
   "mimetype": "text/x-python",
   "name": "python",
   "nbconvert_exporter": "python",
   "pygments_lexer": "ipython3",
   "version": "3.8.5"
  },
  "latex_envs": {
   "LaTeX_envs_menu_present": true,
   "autoclose": false,
   "autocomplete": true,
   "bibliofile": "biblio.bib",
   "cite_by": "apalike",
   "current_citInitial": 1,
   "eqLabelWithNumbers": true,
   "eqNumInitial": 1,
   "hotkeys": {
    "equation": "Ctrl-E",
    "itemize": "Ctrl-I"
   },
   "labels_anchors": false,
   "latex_user_defs": false,
   "report_style_numbering": false,
   "user_envs_cfg": false
  },
  "name": "2_independence.ipynb",
  "rise": {
   "theme": "moon"
  },
  "toc": {
   "base_numbering": 1,
   "nav_menu": {
    "height": "150px",
    "width": "436px"
   },
   "number_sections": false,
   "sideBar": true,
   "skip_h1_title": false,
   "title_cell": "Table of Contents",
   "title_sidebar": "Contents",
   "toc_cell": false,
   "toc_position": null,
   "toc_section_display": true,
   "toc_window_display": false
  }
 },
 "nbformat": 4,
 "nbformat_minor": 4
}
