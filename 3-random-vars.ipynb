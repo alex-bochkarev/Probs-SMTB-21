{
 "cells": [
  {
   "cell_type": "markdown",
   "metadata": {
    "slideshow": {
     "slide_type": "slide"
    }
   },
   "source": [
    "*SMTB-2021 :: \"A Practical Intro to Probability Theory.\"*\n",
    "*a@bochkarev.io*\n",
    "\n",
    "**Last time we discussed independence, tests, and Co.:**\n",
    "- Crocodiles and rabbits revised (aka black and white balls).\n",
    "- Dependent and Independent events.\n",
    "- Conditional probability.\n",
    "- COVID test as a random variable. Characterizing tests.\n",
    "\n",
    "**This time, we start...**\n",
    "\n",
    "## Topic 3: Random Variables\n",
    "   - Definition\n",
    "   - Quick examples: score on dice; an RV with countably many values (Poisson)\n",
    "   - Bernoulli scheme (a \"biased\" coin) and Binomial distribution (counting the number of \"Heads\").\n",
    "   - Characterizing RVs: PMF, CDF."
   ]
  },
  {
   "cell_type": "code",
   "execution_count": 1,
   "metadata": {
    "slideshow": {
     "slide_type": "skip"
    }
   },
   "outputs": [],
   "source": [
    "import numpy as np\n",
    "from scipy.special import comb\n",
    "import seaborn as sns\n",
    "import matplotlib.pyplot as plt\n",
    "from math import factorial, exp, pi, sqrt"
   ]
  },
  {
   "cell_type": "markdown",
   "metadata": {
    "slideshow": {
     "slide_type": "slide"
    }
   },
   "source": [
    "## Random events → random *variables*\n",
    "We have defined \"Probability Space\" $(\\Omega, \\mathcal{F}, \\mathbb{P})$. However, often we are interested in some random *values*, and not exactly the structure of the set of outcomes. We can try to define something like:\n",
    "\n",
    "**A random variable** -- is a function $\\xi: \\Omega \\rightarrow \\mathbb{R}$. \n",
    "\n",
    "In particular, it must satisfy the condition that for any \"reasonable\" (sic!) subset $B\\subseteq \\mathbb{R}$ (we can say \"any interval $(a,b)$\") it must be technically possible to calculate $\\mathbb{P}(\\xi \\in B)$, that is, $\\xi^{-1}(B) \\in \\mathcal{F}$ -- is an \"event."
   ]
  },
  {
   "cell_type": "markdown",
   "metadata": {
    "slideshow": {
     "slide_type": "slide"
    }
   },
   "source": [
    "**How to describe random variables?**"
   ]
  },
  {
   "cell_type": "markdown",
   "metadata": {
    "slideshow": {
     "slide_type": "slide"
    }
   },
   "source": [
    "- for a *discrete* case we often discuss \"probability mass function\" (PMF): $\\mathbb{P}(\\xi=x_i)=p_i$ for all $i$.\n",
    "\n",
    "*(we'll try to discuss another case further)*\n",
    "\n",
    "- sometimes we discuss \"cumulative probability density\" (CDF), which is just $F(x):=\\mathbb{P}(\\xi\\leq x)$. (We'll soon see why)"
   ]
  },
  {
   "cell_type": "markdown",
   "metadata": {
    "slideshow": {
     "slide_type": "slide"
    }
   },
   "source": [
    "### Some examples\n",
    "- Assume $\\Omega=\\{⚀, ⚁, ⚂, ⚃, ⚄, ⚅\\}$ -- our experiment with dice. We can introduce $\\xi(\\omega)$ as the *score* we got. E.g.,  $\\xi(⚄) := 5$, and os on."
   ]
  },
  {
   "cell_type": "markdown",
   "metadata": {
    "slideshow": {
     "slide_type": "subslide"
    }
   },
   "source": [
    "- What if I want to describe random numbers from 1 to 100? (e.g., school test results) \n",
    "\n",
    "I would need to define $p_1,\\ldots, p_{100}$ (*so that **what**?*) and assume $\\mathbb{P}(\\xi=x)=0$ for any $x\\notin \\{1,\\ldots,100\\}$.\n",
    "\n",
    "\n",
    "In Python one can get such random numbers, e.g., with `numpy` library (although where to find *randomness* inside a computer is a separate, totally exciting topic):"
   ]
  },
  {
   "cell_type": "code",
   "execution_count": 2,
   "metadata": {
    "slideshow": {
     "slide_type": "fragment"
    }
   },
   "outputs": [
    {
     "data": {
      "text/plain": [
       "8"
      ]
     },
     "execution_count": 2,
     "metadata": {},
     "output_type": "execute_result"
    }
   ],
   "source": [
    "import numpy as np\n",
    "np.random.randint(0,101)"
   ]
  },
  {
   "cell_type": "markdown",
   "metadata": {
    "slideshow": {
     "slide_type": "subslide"
    }
   },
   "source": [
    "- Hmmm... what if I want to get **any** random integers (albeit non-uniformly)? 1,2,5,345,2, ... Is it possible?"
   ]
  },
  {
   "cell_type": "markdown",
   "metadata": {
    "slideshow": {
     "slide_type": "fragment"
    }
   },
   "source": [
    "- Well, \"how many\" are those?"
   ]
  },
  {
   "cell_type": "markdown",
   "metadata": {
    "slideshow": {
     "slide_type": "fragment"
    }
   },
   "source": [
    "- Can the probability at each point be bounded below? What are restrictions on $\\mathbb{P}$?..\n",
    "- does all this create any trouble to us?"
   ]
  },
  {
   "cell_type": "markdown",
   "metadata": {
    "slideshow": {
     "slide_type": "subslide"
    }
   },
   "source": [
    "OK, let's consider an example:\n",
    "\n",
    "$$\\mathbb{P}(\\xi=x) := \\frac{10^x}{x!}e^{-10},\\quad x=1,2,3\\ldots\\nonumber$$\n",
    "\n",
    "How interesting:"
   ]
  },
  {
   "cell_type": "code",
   "execution_count": 3,
   "metadata": {
    "slideshow": {
     "slide_type": "subslide"
    }
   },
   "outputs": [
    {
     "data": {
      "image/png": "[encoded data removed]",
      "text/plain": [
       "<Figure size 432x288 with 1 Axes>"
      ]
     },
     "metadata": {
      "needs_background": "light"
     },
     "output_type": "display_data"
    }
   ],
   "source": [
    "def show_p(p_func, N = 50, N0=1):\n",
    "    p = [0.0] * N\n",
    "\n",
    "    for x in range(N0, N):\n",
    "        p[x - N0] = p_func(x)\n",
    "    \n",
    "    sns.regplot(x=[x for x in range(N)],y=p, fit_reg=False)\n",
    "    plt.grid()\n",
    "    plt.xlabel(\"x\", fontsize=20); plt.ylabel(\"ℙ(ξ=x)\", fontsize=20);\n",
    "    return p\n",
    "\n",
    "p=show_p(p_func = lambda x: (10**x / factorial(x))*exp(-10))"
   ]
  },
  {
   "cell_type": "code",
   "execution_count": 4,
   "metadata": {
    "slideshow": {
     "slide_type": "fragment"
    }
   },
   "outputs": [
    {
     "data": {
      "text/plain": [
       "[8.250599158717311e-17,\n",
       " 1.7554466295143215e-17,\n",
       " 3.6571804781548364e-18,\n",
       " 7.463633628887421e-19,\n",
       " 0.0]"
      ]
     },
     "execution_count": 4,
     "metadata": {},
     "output_type": "execute_result"
    }
   ],
   "source": [
    "p[-5:]"
   ]
  },
  {
   "cell_type": "code",
   "execution_count": 5,
   "metadata": {
    "slideshow": {
     "slide_type": "subslide"
    }
   },
   "outputs": [
    {
     "data": {
      "image/png": "[encoded data removed]",
      "text/plain": [
       "<Figure size 432x288 with 1 Axes>"
      ]
     },
     "metadata": {
      "needs_background": "light"
     },
     "output_type": "display_data"
    }
   ],
   "source": [
    "# Moreover!\n",
    "def show_cumulative_p(p_func, p0, N = 50):\n",
    "    p_cumulative = [0.0] * N\n",
    "\n",
    "    p_cumulative[0] = p0\n",
    "\n",
    "    for x in range(1, N):\n",
    "        p_cumulative[x] = p_cumulative[x-1] + p_func(x)\n",
    "    \n",
    "    sns.regplot(x=[x for x in range(N)],y=p_cumulative, fit_reg=False)\n",
    "    plt.grid()\n",
    "    plt.xlabel(\"x\", fontsize=20); plt.ylabel(\"(almost) ℙ(ξ≤x)\", \n",
    "                                             fontsize=20);\n",
    "    return p_cumulative\n",
    "\n",
    "p_cumulative=show_cumulative_p(p_func=lambda x: (10**x / factorial(x))*exp(-10), p0=exp(-10))"
   ]
  },
  {
   "cell_type": "code",
   "execution_count": 6,
   "metadata": {
    "slideshow": {
     "slide_type": "fragment"
    }
   },
   "outputs": [
    {
     "data": {
      "text/plain": [
       "[0.9999999999999998,\n",
       " 0.9999999999999999,\n",
       " 0.9999999999999999,\n",
       " 0.9999999999999999,\n",
       " 0.9999999999999999]"
      ]
     },
     "execution_count": 6,
     "metadata": {},
     "output_type": "execute_result"
    }
   ],
   "source": [
    "p_cumulative[-5:]"
   ]
  },
  {
   "cell_type": "markdown",
   "metadata": {
    "slideshow": {
     "slide_type": "slide"
    }
   },
   "source": [
    "## Example: Bernoulli scheme and Binomial distribution\n",
    "\n",
    "- Let's throw a *biased* coin (prob. of \"success\" $p$), $n$ times\n",
    "- We can try to answer different questions. E.g., what's the probability that the first \"success\" will happen on $t$-th time?"
   ]
  },
  {
   "cell_type": "markdown",
   "metadata": {
    "slideshow": {
     "slide_type": "fragment"
    }
   },
   "source": [
    "Well, of course, $(1-p)^{t-1}p$."
   ]
  },
  {
   "cell_type": "markdown",
   "metadata": {
    "slideshow": {
     "slide_type": "fragment"
    }
   },
   "source": [
    "- now, let's calculate the *number* of successes. This will be our $\\xi$.\n",
    "\n",
    "What is $\\mathbb{P}(\\xi = k)$, and why?"
   ]
  },
  {
   "cell_type": "markdown",
   "metadata": {
    "slideshow": {
     "slide_type": "fragment"
    }
   },
   "source": [
    "$$\\mathbb{P}(\\xi=k) = C_n^k p^k (1-p)^{n-k}\\nonumber,$$\n",
    "\n",
    "and this is called \"Binomial\" distribution."
   ]
  },
  {
   "cell_type": "code",
   "execution_count": 7,
   "metadata": {
    "slideshow": {
     "slide_type": "slide"
    }
   },
   "outputs": [
    {
     "name": "stderr",
     "output_type": "stream",
     "text": [
      "/home/bochkarev/anaconda3/lib/python3.8/site-packages/seaborn/_decorators.py:36: FutureWarning: Pass the following variables as keyword args: x, y. From version 0.12, the only valid positional argument will be `data`, and passing other arguments without an explicit keyword will result in an error or misinterpretation.\n",
      "  warnings.warn(\n"
     ]
    },
    {
     "data": {
      "image/png": "[encoded data removed]",
      "text/plain": [
       "<Figure size 1152x720 with 1 Axes>"
      ]
     },
     "metadata": {
      "needs_background": "light"
     },
     "output_type": "display_data"
    }
   ],
   "source": [
    "n = 100\n",
    "\n",
    "plt.figure(figsize=(16,10))\n",
    "for p in [0.2, 0.5, 0.8]:\n",
    "    sns.regplot([i for i in range(n)], \n",
    "                [comb(n,k)*np.power(p, k)*np.power(1-p, n-k) for k in range(n)],\n",
    "                fit_reg=False,\n",
    "               label=f\"p={p}\")\n",
    "\n",
    "plt.grid()\n",
    "plt.legend()\n",
    "plt.xlabel(\"k\", fontsize=15); plt.ylabel(\"P(xi=k)\", \n",
    "                                         fontsize=15);"
   ]
  },
  {
   "cell_type": "markdown",
   "metadata": {
    "slideshow": {
     "slide_type": "slide"
    }
   },
   "source": [
    "#### Independence of random variables\n",
    "Are defined similarly:\n",
    "- for the events we had $\\mathbb{P}(A\\cap B) = \\mathbb{P}(A)\\mathbb{P}(B)$.\n",
    "- Now, for random variables:"
   ]
  },
  {
   "cell_type": "markdown",
   "metadata": {
    "slideshow": {
     "slide_type": "fragment"
    }
   },
   "source": [
    "... $\\mathbb{P}(\\xi=x, \\eta=y)=\\mathbb{P}(\\xi=x)\\mathbb{P}(\\eta=y)$ for all relevant $x$ and $y$."
   ]
  },
  {
   "cell_type": "markdown",
   "metadata": {
    "slideshow": {
     "slide_type": "slide"
    }
   },
   "source": [
    "### What are some (numerical) properties of random variables?\n",
    "**Intuitively:** \"mean value\" and \"spread\".\n",
    "\n",
    "#### Mathematical expectation (sometimes \"mean\")\n",
    "If $\\xi$ takes values $x_i$ with probs $p_i$, then define:\n",
    "\n",
    "$$\\mathbb{E}\\xi := \\sum_i x_i p_i\\nonumber.$$\n",
    "\n",
    "Does it always exist?"
   ]
  },
  {
   "cell_type": "markdown",
   "metadata": {
    "slideshow": {
     "slide_type": "slide"
    }
   },
   "source": [
    "Well, **no.** Imagine $\\xi=1,2,3,\\ldots$ and $\\mathbb{P}(\\xi=x)=6/(\\pi^2 x^2)$. What is this?\n",
    "Apparently, an okay random variable:"
   ]
  },
  {
   "cell_type": "code",
   "execution_count": 8,
   "metadata": {
    "slideshow": {
     "slide_type": "fragment"
    }
   },
   "outputs": [
    {
     "data": {
      "image/png": "[encoded data removed]",
      "text/plain": [
       "<Figure size 432x288 with 1 Axes>"
      ]
     },
     "metadata": {
      "needs_background": "light"
     },
     "output_type": "display_data"
    },
    {
     "data": {
      "image/png": "[encoded data removed]",
      "text/plain": [
       "<Figure size 432x288 with 1 Axes>"
      ]
     },
     "metadata": {
      "needs_background": "light"
     },
     "output_type": "display_data"
    }
   ],
   "source": [
    "plt.figure()\n",
    "_ = show_p(p_func=lambda x: 6/((pi**2)*(x**2)), N0=1)\n",
    "\n",
    "plt.figure()\n",
    "_ = show_cumulative_p(p_func=lambda x: 6/((pi**2)*(x**2)), p0=0)"
   ]
  },
  {
   "cell_type": "markdown",
   "metadata": {
    "slideshow": {
     "slide_type": "slide"
    }
   },
   "source": [
    "However, if I'd want to calculate the sum $\\sum_{x=1}^N x 6/(\\pi^2 x^2)=\\sum_{x=1}^N 6/(\\pi^2 x)$, as $N$ grows I, of course will hit the wall:"
   ]
  },
  {
   "cell_type": "code",
   "execution_count": 9,
   "metadata": {
    "slideshow": {
     "slide_type": "fragment"
    }
   },
   "outputs": [
    {
     "data": {
      "image/png": "[encoded data removed]",
      "text/plain": [
       "<Figure size 432x288 with 1 Axes>"
      ]
     },
     "metadata": {
      "needs_background": "light"
     },
     "output_type": "display_data"
    }
   ],
   "source": [
    "N = 50\n",
    "S = [0.0] * N\n",
    "\n",
    "S[0] = 6/(pi**2)\n",
    "\n",
    "for x in range(1, N):\n",
    "    S[x] = S[x-1] + 6/(x*pi**2)\n",
    "\n",
    "sns.regplot([x for x in range(N)],S, fit_reg=False)\n",
    "plt.grid()\n",
    "plt.xlabel(\"N\", fontsize=20); plt.ylabel(\"∑ of the first N terms\", \n",
    "                                         fontsize=15);"
   ]
  },
  {
   "cell_type": "markdown",
   "metadata": {
    "slideshow": {
     "slide_type": "slide"
    }
   },
   "source": [
    "#### Mathematical expectation.\n",
    "If $\\xi$ takes values $x_i$ w/prob $p_i$, define:\n",
    "\n",
    "$$\\mathbb{E}\\xi := \\sum_i x_i p_i\\nonumber.$$\n",
    "\n",
    "Does it always exist? -- No, but it is still **very** useful.\n",
    "\n",
    "**A couple of important properties:** \n",
    "- expectation is *linear* -- for (any) random variables $\\xi$ and $\\eta$, and (any, non-random) numbers $a,b$:\n",
    "$$\\mathbb{E}[a\\xi + b\\eta]=a\\mathbb{E}\\xi + b\\mathbb{E}\\eta.\\nonumber$$\n",
    "- if $\\xi$, $\\eta$ -- independent, then $\\mathbb{E}[\\xi\\eta]=\\mathbb{E}\\xi\\mathbb{E}\\eta$."
   ]
  },
  {
   "cell_type": "markdown",
   "metadata": {
    "slideshow": {
     "slide_type": "fragment"
    }
   },
   "source": [
    "**Let's calculate expectation for $n$ trials of the Bernoulli scheme**.\n",
    "\n",
    "*how?*"
   ]
  },
  {
   "cell_type": "markdown",
   "metadata": {
    "slideshow": {
     "slide_type": "fragment"
    }
   },
   "source": [
    "- for one trial -- obviously, it is $p$. \n",
    "- for a sum  $n$ such things -- $np$."
   ]
  },
  {
   "cell_type": "markdown",
   "metadata": {
    "slideshow": {
     "slide_type": "slide"
    }
   },
   "source": [
    "#### Variance.\n",
    "\n",
    "$$\\textrm{Var}\\xi := \\mathbb{E}(\\xi - E\\xi)^2 = \\mathbb{E}\\xi^2 - (\\mathbb{E}\\xi)^2\\nonumber$$\n",
    "\n",
    "(Sometimes denoted $\\textrm{D}\\xi$.) Quite often people also discuss **standard deviation** $\\sigma := \\sqrt{\\textrm{Var}\\xi}$.\n",
    "\n",
    "Among the important properties:\n",
    "- $\\textrm{Var}[c\\xi] = c^2\\textrm{Var}\\xi$\n",
    "- $\\textrm{Var}[\\xi + c] = \\textrm{Var}\\xi$\n",
    "- if $\\xi,\\eta$ -- independent, then $\\textrm{Var}[\\xi+\\eta]=\\textrm{Var}\\xi+\\textrm{Var}\\eta$."
   ]
  },
  {
   "cell_type": "markdown",
   "metadata": {
    "slideshow": {
     "slide_type": "fragment"
    }
   },
   "source": [
    "**Let's calculate variance for $n$ trials of the Bernoulli scheme**, again\n",
    "\n",
    "*how?*"
   ]
  },
  {
   "cell_type": "markdown",
   "metadata": {
    "slideshow": {
     "slide_type": "fragment"
    }
   },
   "source": [
    "- for one term -- obviously, $p(1-p)$. For a sum of $n$: it is $np(1-p)$."
   ]
  },
  {
   "cell_type": "code",
   "execution_count": 19,
   "metadata": {
    "scrolled": true,
    "slideshow": {
     "slide_type": "slide"
    }
   },
   "outputs": [],
   "source": [
    "## Let's see numerically.\n",
    "def make_bernoulli_trial(n, p):\n",
    "    \"\"\"Performs one experiment (``n`` trials).\"\"\"\n",
    "    outcome = [ 1*(np.random.random() <= p) for _ in range(n) ]\n",
    "    return np.sum(outcome)\n",
    "\n",
    "n = 50\n",
    "p = 0.3\n",
    "\n",
    "N=1000\n",
    "\n",
    "k = [ make_bernoulli_trial(n, p) for _ in range(N) ]\n",
    "\n",
    "def draw_figure():\n",
    "    plt.figure(figsize=(16,10))\n",
    "    ax = sns.regplot([i for i in range(N)], k, fit_reg=False)\n",
    "    plt.grid()\n",
    "    plt.xlabel(\"Experiment\", fontsize=15); plt.ylabel(\"result (k)\", \n",
    "                                             fontsize=15);\n",
    "    plt.axhline(n*p,color='green', linewidth=5)\n",
    "    ax.text(0, n*p+0.3, \"np\", fontsize=15, color='green')\n",
    "\n",
    "    plt.axhline(n*p - sqrt(n*p*(1-p)), color='red', ls='solid')\n",
    "    ax.text(0, n*p - sqrt(n*p*(1-p))+0.3, \"-sigma\", fontsize=15, color='red')\n",
    "    plt.axhline(n*p + sqrt(n*p*(1-p)), color='red', ls='solid')\n",
    "    ax.text(0, n*p + sqrt(n*p*(1-p))+0.3, \"+sigma\", fontsize=15, color='red')\n",
    "\n",
    "    plt.axhline(n*p - 2*sqrt(n*p*(1-p)), color='red', ls='dashed')\n",
    "    ax.text(0, n*p - 2*sqrt(n*p*(1-p))+0.3, \"-2sigma\", fontsize=15, color='red')\n",
    "    plt.axhline(n*p + 2*sqrt(n*p*(1-p)), color='red', ls='dashed')\n",
    "    ax.text(0, n*p + 2*sqrt(n*p*(1-p))+0.3, \"+2sigma\", fontsize=15, color='red')\n",
    "\n",
    "    plt.axhline(n*p - 3*sqrt(n*p*(1-p)), color='red', ls='dotted')\n",
    "    plt.axhline(n*p + 3*sqrt(n*p*(1-p)), color='red', ls='dotted')"
   ]
  },
  {
   "cell_type": "code",
   "execution_count": 20,
   "metadata": {
    "scrolled": true,
    "slideshow": {
     "slide_type": "slide"
    }
   },
   "outputs": [
    {
     "data": {
      "image/png": "[encoded data removed]",
      "text/plain": [
       "<Figure size 1152x720 with 1 Axes>"
      ]
     },
     "metadata": {
      "needs_background": "light"
     },
     "output_type": "display_data"
    }
   ],
   "source": [
    "draw_figure()"
   ]
  },
  {
   "cell_type": "markdown",
   "metadata": {
    "slideshow": {
     "slide_type": "fragment"
    }
   },
   "source": [
    "Such figure can be used quite literally:"
   ]
  },
  {
   "cell_type": "code",
   "execution_count": 21,
   "metadata": {
    "slideshow": {
     "slide_type": "slide"
    }
   },
   "outputs": [],
   "source": [
    "class ProductionLine:\n",
    "    def __init__(self, p1, p2, n, t_star = np.random.randint(90, 110)):\n",
    "        self.p1 = p1\n",
    "        self.p2 = p2\n",
    "        self.n = n\n",
    "        self.t_star = t_star\n",
    "        self.t = 0\n",
    "        self.ts = [0]\n",
    "        self.res = [0]\n",
    "        self.p = p1\n",
    "        \n",
    "    def step(self):\n",
    "        self.t += 1\n",
    "        if self.t == self.t_star:\n",
    "            print(\"click\")\n",
    "            self.p = self.p2\n",
    "        return make_bernoulli_trial(self.n, self.p)\n",
    "    \n",
    "    def refresh(self, by=10):\n",
    "        for _ in range(by):\n",
    "            self.res.append(self.step())\n",
    "            self.ts.append(self.t)\n",
    "\n",
    "        np = self.n*self.p1\n",
    "        sigma = sqrt(self.n*self.p1*(1-self.p1))\n",
    "        \n",
    "        plt.figure(figsize=(16,10))\n",
    "        ax = sns.regplot(self.ts, self.res, fit_reg=False)\n",
    "        plt.grid()\n",
    "        plt.xlabel(\"Batch number\", fontsize=15); plt.ylabel(\"Defects (number)\", \n",
    "                                                 fontsize=15);\n",
    "        plt.axhline(np,color='green', linewidth=5)\n",
    "        ax.text(0, np+0.3, \"np\", fontsize=15, color='green')\n",
    "\n",
    "        plt.axhline(np - sigma, color='red', ls='solid')\n",
    "        ax.text(0, np - sigma+0.3, \"-sigma\", fontsize=15, color='red')\n",
    "        plt.axhline(np + sigma, color='red', ls='solid')\n",
    "        ax.text(0, np + sigma + 0.3, \"+sigma\", fontsize=15, color='red')\n",
    "\n",
    "        plt.axhline(np - 2*sigma, color='red', ls='dashed')\n",
    "        ax.text(0, np - 2*sigma+0.3, \"-2sigma\", fontsize=15, color='red')\n",
    "        plt.axhline(np + 2*sigma, color='red', ls='dashed')\n",
    "        ax.text(0, np + 2*sigma+0.3, \"+2sigma\", fontsize=15, color='red')\n",
    "\n",
    "        plt.axhline(np - 3*sigma, color='red', ls='dotted')\n",
    "        plt.axhline(np + 3*sigma, color='red', ls='dotted')\n",
    "        plt.xlim(0,200)\n",
    "        plt.ylim(np - 3.5*sigma, np + 3.5*sigma)"
   ]
  },
  {
   "cell_type": "code",
   "execution_count": 22,
   "metadata": {
    "slideshow": {
     "slide_type": "slide"
    }
   },
   "outputs": [],
   "source": [
    "n = 1000; p=0.01; p_bad=0.013\n",
    "pline = ProductionLine(p, p_bad, n)"
   ]
  },
  {
   "cell_type": "code",
   "execution_count": 37,
   "metadata": {
    "slideshow": {
     "slide_type": "slide"
    }
   },
   "outputs": [
    {
     "data": {
      "image/png": "[encoded data removed]",
      "text/plain": [
       "<Figure size 1152x720 with 1 Axes>"
      ]
     },
     "metadata": {
      "needs_background": "light"
     },
     "output_type": "display_data"
    }
   ],
   "source": [
    "pline.refresh()"
   ]
  },
  {
   "cell_type": "code",
   "execution_count": 38,
   "metadata": {
    "slideshow": {
     "slide_type": "fragment"
    }
   },
   "outputs": [
    {
     "data": {
      "text/plain": [
       "98"
      ]
     },
     "execution_count": 38,
     "metadata": {},
     "output_type": "execute_result"
    }
   ],
   "source": [
    "pline.t_star"
   ]
  },
  {
   "cell_type": "markdown",
   "metadata": {
    "slideshow": {
     "slide_type": "slide"
    }
   },
   "source": [
    "Let's maybe develop the idea a little further?\n",
    "\n",
    "Assume I have just thrown a coin 100 times, and I got HEADS 80 times.\n",
    "\n",
    "**A question:** is everything OK with the coin?"
   ]
  },
  {
   "cell_type": "markdown",
   "metadata": {
    "slideshow": {
     "slide_type": "fragment"
    }
   },
   "source": [
    "Well, we can *assume* that the coin is fair, and calculate the probability to get what we got (or even more extreme). Usually it is formulated as follows:\n",
    "- **Hypothesis 0 ($H_0$):** $p=0.5$.\n",
    "- define a \"reasonable\" threshold $\\alpha$ -- \"confidence level\". Say, 1%. Maybe five percent.\n",
    "- Calculate the probability to get such, or even \"more extreme\" outcome -- this is called [p-value](https://en.wikipedia.org/wiki/P-value).\n",
    "\n",
    "Now, if p-value < $\\alpha$ -- then the data contradict the hypothesis, so we might want to reject it. Let's see:"
   ]
  },
  {
   "cell_type": "markdown",
   "metadata": {
    "slideshow": {
     "slide_type": "fragment"
    }
   },
   "source": [
    "for our case with the coin, p-value=$\\sum_{k=80}^{100} C_n^k p^k(1-p)^n-k$, where $n=100$, $p=0.5$. That is:"
   ]
  },
  {
   "cell_type": "code",
   "execution_count": 39,
   "metadata": {
    "slideshow": {
     "slide_type": "slide"
    }
   },
   "outputs": [
    {
     "name": "stdout",
     "output_type": "stream",
     "text": [
      "p-value for k=80: 5.579544528625975e-10\n",
      "p-value for k=60: 0.028443966820490385\n"
     ]
    }
   ],
   "source": [
    "def P(n,k,p):\n",
    "    return comb(n,k)*np.power(p, k)*np.power(1-p, n-k)\n",
    "\n",
    "pval = sum([ P(n=100, k=k, p=0.5) for k in range(80,100 + 1)])\n",
    "print(f\"p-value for k=80: {pval}\")\n",
    "\n",
    "pval = sum([ P(n=100, k=k, p=0.5) for k in range(60,100 + 1)])\n",
    "print(f\"p-value for k=60: {pval}\")"
   ]
  },
  {
   "cell_type": "markdown",
   "metadata": {
    "slideshow": {
     "slide_type": ""
    }
   },
   "source": [
    "(Calculating this directly is cool, but sometimes expensive computationally. So people quite often try to \"shortcut\".)"
   ]
  },
  {
   "cell_type": "markdown",
   "metadata": {},
   "source": [
    "*SMTB-2021 :: \"A Practical Intro to Probability Theory.\"*\n",
    "*a@bochkarev.io*\n",
    "\n",
    "# Topic 3: Random variables\n",
    "- Definition\n",
    "- Quick examples: score on dice; an RV with countably many values (Poisson)\n",
    "- Bernoulli scheme (a \"biased\" coin) and Binomial distribution (counting the number of \"Heads\").\n",
    "- PMF, CDF.\n",
    "\n",
    "## Next time: random variables -- continuous case\n",
    "   - Motivation: a random variable that \"can be anything\"\n",
    "   - A histogram.\n",
    "   - PDF, CDF.\n",
    "   - Examples: uniform, normal random variables.\n",
    "   - A numerical illustration for Central Limit Theorem.\n",
    "\n",
    "   \n",
    "**Thinking with 🍵:** make sure you understand the definition of mean and variance!"
   ]
  }
 ],
 "metadata": {
  "celltoolbar": "Slideshow",
  "kernelspec": {
   "display_name": "Python 3",
   "language": "python",
   "name": "python3"
  },
  "language_info": {
   "codemirror_mode": {
    "name": "ipython",
    "version": 3
   },
   "file_extension": ".py",
   "mimetype": "text/x-python",
   "name": "python",
   "nbconvert_exporter": "python",
   "pygments_lexer": "ipython3",
   "version": "3.8.5"
  },
  "latex_envs": {
   "LaTeX_envs_menu_present": true,
   "autoclose": false,
   "autocomplete": true,
   "bibliofile": "biblio.bib",
   "cite_by": "apalike",
   "current_citInitial": 1,
   "eqLabelWithNumbers": true,
   "eqNumInitial": 1,
   "hotkeys": {
    "equation": "Ctrl-E",
    "itemize": "Ctrl-I"
   },
   "labels_anchors": false,
   "latex_user_defs": false,
   "report_style_numbering": false,
   "user_envs_cfg": false
  },
  "rise": {
   "theme": "moon"
  },
  "toc": {
   "base_numbering": 1,
   "nav_menu": {},
   "number_sections": false,
   "sideBar": true,
   "skip_h1_title": false,
   "title_cell": "Table of Contents",
   "title_sidebar": "Contents",
   "toc_cell": false,
   "toc_position": {},
   "toc_section_display": true,
   "toc_window_display": false
  }
 },
 "nbformat": 4,
 "nbformat_minor": 4
}
